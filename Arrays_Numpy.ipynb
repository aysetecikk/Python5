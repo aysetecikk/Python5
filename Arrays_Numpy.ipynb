{
  "nbformat": 4,
  "nbformat_minor": 0,
  "metadata": {
    "colab": {
      "provenance": []
    },
    "kernelspec": {
      "name": "python3",
      "display_name": "Python 3"
    },
    "language_info": {
      "name": "python"
    }
  },
  "cells": [
    {
      "cell_type": "code",
      "execution_count": null,
      "metadata": {
        "colab": {
          "base_uri": "https://localhost:8080/",
          "height": 88
        },
        "id": "ISvAyL9yxIs-",
        "outputId": "6ee15e60-0b1e-4172-d9d6-efeb847ad3da"
      },
      "outputs": [
        {
          "output_type": "execute_result",
          "data": {
            "text/plain": [
              "'1. Sayılardan oluşan bir boyutlu array oluşturulur.\\nArrayi oluştururken sayıların veri tipini integer olarak belirtilir.\\nOluşturulan arrayin boyut, eleman sayısı bilgilerine bakılır.\\n\\n2.İki ve üç boyutlu arrayler oluşturulur.\\nBu arraylerin boyut, eleman sayısı, satır, sütun bilgilerine ulaşılır.\\nArrayler üzerinde indexleme ve dilimleme(slicing) işlemi yapılır.\\n\\n3.Numpy fonksiyonu kullanarak bir, iki ve üç boyutlu arrayler oluşturulur.\\nArrayler üzerinde indexleme ve dilimleme(slicing) işlemi yapılır\\n\\n4.Sıfırlardan oluşan ve birlerden oluşan iki tane iki boyutlu array oluşturulur.\\nBu arrayler satır ve sütun bazında birleştirilir. '"
            ],
            "application/vnd.google.colaboratory.intrinsic+json": {
              "type": "string"
            }
          },
          "metadata": {},
          "execution_count": 1
        }
      ],
      "source": [
        "\"\"\"1. Sayılardan oluşan bir boyutlu array oluşturulur.\n",
        "Arrayi oluştururken sayıların veri tipini integer olarak belirtilir.\n",
        "Oluşturulan arrayin boyut, eleman sayısı bilgilerine bakılır.\n",
        "\n",
        "2.İki ve üç boyutlu arrayler oluşturulur.\n",
        "Bu arraylerin boyut, eleman sayısı, satır, sütun bilgilerine ulaşılır.\n",
        "Arrayler üzerinde indexleme ve dilimleme(slicing) işlemi yapılır.\n",
        "\n",
        "3.Numpy fonksiyonu kullanarak bir, iki ve üç boyutlu arrayler oluşturulur.\n",
        "Arrayler üzerinde indexleme ve dilimleme(slicing) işlemi yapılır\n",
        "\n",
        "4.Sıfırlardan oluşan ve birlerden oluşan iki tane iki boyutlu array oluşturulur.\n",
        "Bu arrayler satır ve sütun bazında birleştirilir. \"\"\""
      ]
    },
    {
      "cell_type": "code",
      "source": [
        "\"\"\"1. Sayılardan oluşan bir boyutlu array oluşturulur.\n",
        "Arrayi oluştururken sayıların veri tipini integer olarak belirtilir.\n",
        "Oluşturulan arrayin boyut, eleman sayısı bilgilerine bakılır. \"\"\"\n",
        "\n",
        "array1 =  ([1,2,3,4,5,]) #1 boyutlu\n",
        "eleman_sayisi1= len(array1)\n",
        "print (eleman_sayisi1)\n",
        "\n",
        "# Dizi boyutu .ndim ile kontrol edilebilir numpy kütüphanesi ile\n",
        "boyut1 = 1\n",
        "print(\"Dizinin boyutu:\", boyut1)\n",
        "\n",
        "#array1 = np.array ([1,2,3,4,5,]) #1 boyutlu\n",
        "#eleman_sayisi1= len(array1)\n",
        "#print (eleman_sayisi1)\n",
        "\n",
        "# Dizi boyutu .ndim ile kontrol edilebilir numpy kütüphanesi ile\n",
        "#boyut1 = array1.ndim\n",
        "#print(\"Dizinin boyutu:\", boyut1)\"\"\""
      ],
      "metadata": {
        "colab": {
          "base_uri": "https://localhost:8080/"
        },
        "id": "f0boqkP1xl_S",
        "outputId": "3f9cb7f7-882d-400a-fd16-38db903f4636"
      },
      "execution_count": null,
      "outputs": [
        {
          "output_type": "stream",
          "name": "stdout",
          "text": [
            "5\n",
            "Dizinin boyutu: 1\n"
          ]
        }
      ]
    },
    {
      "cell_type": "code",
      "source": [
        "\"\"\"2.İki ve üç boyutlu arrayler oluşturulur.\n",
        "Bu arraylerin boyut, eleman sayısı, satır, sütun bilgilerine ulaşılır.\n",
        "Arrayler üzerinde indexleme ve dilimleme(slicing) işlemi yapılır. \"\"\"\n",
        "\n",
        "array2 = [\n",
        "    [1,2,3],\n",
        "    [4,5,6]\n",
        "    ] # 2 boyutlu dizi\n",
        "print (array2)\n",
        "\n",
        "print()\n",
        "print()\n",
        "array3 = [\n",
        "    [[10,20]],\n",
        "    [[30,40]],\n",
        "    [[50,60]]] #3 boyutlu\n",
        "print(array3)\n",
        "\n"
      ],
      "metadata": {
        "colab": {
          "base_uri": "https://localhost:8080/"
        },
        "id": "s8M0rqc3zzey",
        "outputId": "06772c1f-2204-4ac8-fa73-1d14d15a3d1d"
      },
      "execution_count": null,
      "outputs": [
        {
          "output_type": "stream",
          "name": "stdout",
          "text": [
            "[[1, 2, 3], [4, 5, 6]]\n",
            "\n",
            "\n",
            "[[[10, 20]], [[30, 40]], [[50, 60]]]\n"
          ]
        }
      ]
    },
    {
      "cell_type": "code",
      "source": [
        "# dizilerin boyutu\n",
        "array2_boyut = len(array2)\n",
        "array3_boyut = len(array3)\n",
        "print(array2_boyut)\n",
        "print(array3_boyut)\n",
        "\n"
      ],
      "metadata": {
        "colab": {
          "base_uri": "https://localhost:8080/"
        },
        "id": "geC1VFtt3afX",
        "outputId": "0bc42c85-7da2-471d-c3e5-c144109f6c17"
      },
      "execution_count": null,
      "outputs": [
        {
          "output_type": "stream",
          "name": "stdout",
          "text": [
            "2\n",
            "3\n"
          ]
        }
      ]
    },
    {
      "cell_type": "code",
      "source": [
        "#eleman sayıları\n",
        "eleman_sayisi2 = sum(len(row) for row in array2) # satırlardaki elemanları saydırdı\n",
        "print(\"array2 toplam eleman sayısı:\", eleman_sayisi2)\n",
        "\n",
        "eleman_sayisi3 = sum(len(row) for row in array2)\n",
        "print(\"array2 toplam eleman sayısı:\", eleman_sayisi3)\n"
      ],
      "metadata": {
        "colab": {
          "base_uri": "https://localhost:8080/"
        },
        "id": "mGGfzkM73kLb",
        "outputId": "3db4ac87-bfda-4579-bf80-fb5a2fc9a4f8"
      },
      "execution_count": null,
      "outputs": [
        {
          "output_type": "stream",
          "name": "stdout",
          "text": [
            "array2 toplam eleman sayısı: 6\n",
            "array2 toplam eleman sayısı: 6\n"
          ]
        }
      ]
    },
    {
      "cell_type": "code",
      "source": [
        "# satır sütun bilgileri\n",
        "# len komutu 1 boyutluda direkt eleman sayısını verir\n",
        "#çok boyutlularda da satır sayısnı verir\n",
        "# len ile satır sayısı alınabilir\n",
        "# ve sıfırıncı indisten herhangi sütun sayısı hesaplanabilir\n",
        "\n",
        "satir2 = len(array2)\n",
        "print(\"array2'nin satır sayısı:\", satir2)\n",
        "print()\n",
        "sutun2= len(array2[0]) # direkt ilk indexten alınır\n",
        "print(\"array2'nin sütun sayısı:\", sutun2)\n",
        "print()\n",
        "\n",
        "satir3 =len(array3)\n",
        "print(\"array3'ün satır sayısı:\", satir3)\n",
        "print()\n",
        "sutun3 = len(array3[0][0]) # ilk indexin ilk indexinden alınır\n",
        "print(\"array2'ün sütun sayısı:\", sutun3)\n",
        "\n"
      ],
      "metadata": {
        "colab": {
          "base_uri": "https://localhost:8080/"
        },
        "id": "PLGgKMKl_XDs",
        "outputId": "beda186e-ecec-4605-c3b9-5661395735db"
      },
      "execution_count": null,
      "outputs": [
        {
          "output_type": "stream",
          "name": "stdout",
          "text": [
            "array2'nin satır sayısı: 2\n",
            "\n",
            "array2'nin sütun sayısı: 3\n",
            "\n",
            "array3'ün satır sayısı: 3\n",
            "\n",
            "array2'ün sütun sayısı: 2\n"
          ]
        }
      ]
    },
    {
      "cell_type": "code",
      "source": [
        "# arrayler üzerinde indexleme ve slicing işlemleri\n",
        "#array[start:end:step]\n",
        "# start: Başlangıç indeksi (dahil). Eğer belirtilmezse, varsayılan değer 0'dır.\n",
        "# end: Bitiş indeksi (hariç). Bu indeks dahil edilmez. Eğer belirtilmezse, dizinin sonuna kadar gider.\n",
        "# step: Adım sayısı\n",
        "array2 = [\n",
        "    [1,2,3],\n",
        "    [4,5,6]\n",
        "    ]\n",
        "\n",
        "print(array2[0])  # array2 nin ilk boyutunu yazdırır\n",
        "print(array2[1])  # array2 nin ikinci boyutunu yazdırır\n",
        "\n",
        "print(\"////\")\n",
        "\n",
        "print(array2[1][0]) #array2 nin ikinci boyutundaki ilk elemanı yazdırır yani 4\n",
        "print(array2[0][2]) # array2 nin ilk boyutundaki 3. elemanı yazdırır yani 3\n",
        "\n",
        "print(\"****\")\n",
        "print(array2[:]) #array2nin tamamını alır\n",
        "\n",
        "print(\"---\")\n",
        "print(array2[0:1]) #boyutların indexine göre 0.indexten 1. indexe kadar alır\n",
        "# yani sadece 1 2 3\n",
        "print(\"****\")\n",
        "\n",
        "print(array2[1:2]) # 1.indexten 2.indexe kadar alır, 2. index dahil değil 4 5 6"
      ],
      "metadata": {
        "colab": {
          "base_uri": "https://localhost:8080/"
        },
        "id": "LXnpn4oNDQxF",
        "outputId": "32b7b96e-925c-4956-b5ba-a8b24fe1b8b8"
      },
      "execution_count": null,
      "outputs": [
        {
          "output_type": "stream",
          "name": "stdout",
          "text": [
            "[1, 2, 3]\n",
            "[4, 5, 6]\n",
            "////\n",
            "4\n",
            "3\n",
            "****\n",
            "[[1, 2, 3], [4, 5, 6]]\n",
            "---\n",
            "[[1, 2, 3]]\n",
            "****\n",
            "[[4, 5, 6]]\n"
          ]
        }
      ]
    },
    {
      "cell_type": "code",
      "source": [
        "print(array3[1:3]) #1. indexten 3. indexe kadar ama 3. index yok 1 ve 2yi alır\n",
        "\n",
        "print(\"---\")\n",
        "\n",
        "print(array3[0]) # sadece 1. indexi alır\n",
        "\n",
        "print(\"---\")\n",
        "\n",
        "print(array3[0][0]) # 0. indexin 0. elemanı yani ilk köşeli parantezn içindeki\n",
        " #ilk köşeli parantesi alır"
      ],
      "metadata": {
        "colab": {
          "base_uri": "https://localhost:8080/"
        },
        "id": "0XbwlmqFeqKJ",
        "outputId": "9de40631-c066-4f24-fa73-c6e6c7e348bd"
      },
      "execution_count": null,
      "outputs": [
        {
          "output_type": "stream",
          "name": "stdout",
          "text": [
            "[[[30 40]]\n",
            "\n",
            " [[50 60]]]\n",
            "---\n",
            "[[10 20]]\n",
            "---\n",
            "[10 20]\n"
          ]
        }
      ]
    },
    {
      "cell_type": "code",
      "source": [
        "\"\"\"3.Numpy fonksiyonu kullanarak bir, iki ve üç boyutlu arrayler oluşturulur.\n",
        "Arrayler üzerinde indexleme ve dilimleme(slicing) işlemi yapılır \"\"\"\n",
        "\n",
        "\n",
        "import numpy as np\n",
        "\n",
        "array4 = np.array([1, 2, 3, 4, 5])\n",
        "\n",
        "array5 = np.array([[1, 2, 3, 4],\n",
        "                     [5, 6, 7, 8],\n",
        "                     [9, 10, 11, 12]])\n",
        "\n",
        "array6 = np.array([[[1, 2, 3], [4, 5, 6]],\n",
        "                     [[7, 8, 9], [10, 11, 12]]])\n",
        "\n",
        "print(array4)\n",
        "print(\"***\")\n",
        "print(array5)\n",
        "print(\"***\")\n",
        "print(array6)\n",
        "\n"
      ],
      "metadata": {
        "colab": {
          "base_uri": "https://localhost:8080/"
        },
        "id": "2nL43uk1fmOS",
        "outputId": "87fcbe03-610e-4fb6-d996-0de9c4db7edc"
      },
      "execution_count": null,
      "outputs": [
        {
          "output_type": "stream",
          "name": "stdout",
          "text": [
            "[1 2 3 4 5]\n",
            "***\n",
            "[[ 1  2  3  4]\n",
            " [ 5  6  7  8]\n",
            " [ 9 10 11 12]]\n",
            "***\n",
            "[[[ 1  2  3]\n",
            "  [ 4  5  6]]\n",
            "\n",
            " [[ 7  8  9]\n",
            "  [10 11 12]]]\n"
          ]
        }
      ]
    },
    {
      "cell_type": "code",
      "source": [
        "print(array4[0])  #dizinin ilk elemanı\n",
        "print(array4[1])  #dizinin 2. elemanı\n",
        "\n",
        "print(\"---\")\n",
        "\n",
        "print(array5[1][0]) #dizinin 1. indexindeki 0. elemanı yazdırır 5\n",
        "print(array5[2][2]) #dizinin 2. indexindeki 2. elemanı yazdırır 11\n",
        "\n",
        "print(\"---\")\n",
        "\n",
        "print(array5[:]) #dizinin tamamını alır\n",
        "\n",
        "print(\"---\")\n",
        "print(array6[0:1]) #0. indexten 1. indexe kadar(sadece 1. index)\n",
        "print(\"---\")\n",
        "print(array6[1:2]) # 1.indexten 2.indexe kadar alır, 2. index dahil değil 4 5 6\n"
      ],
      "metadata": {
        "colab": {
          "base_uri": "https://localhost:8080/"
        },
        "id": "bs1QWf4rmNZR",
        "outputId": "bcd7742a-50a9-4698-f385-052687bbe07e"
      },
      "execution_count": null,
      "outputs": [
        {
          "output_type": "stream",
          "name": "stdout",
          "text": [
            "1\n",
            "2\n",
            "---\n",
            "5\n",
            "11\n",
            "---\n",
            "[[ 1  2  3  4]\n",
            " [ 5  6  7  8]\n",
            " [ 9 10 11 12]]\n",
            "---\n",
            "[[[1 2 3]\n",
            "  [4 5 6]]]\n",
            "---\n",
            "[[[ 7  8  9]\n",
            "  [10 11 12]]]\n"
          ]
        }
      ]
    },
    {
      "cell_type": "code",
      "source": [
        "\"\"\"4.Sıfırlardan oluşan ve birlerden oluşan iki tane iki boyutlu array oluşturulur.\n",
        "Bu arrayler satır ve sütun bazında birleştirilir. \"\"\"\n",
        "\n",
        "# 3 satır ve 4 sütundan oluşan sıfır matris\n",
        "zero_matris = np.zeros((3, 4))\n",
        "print(zero_matris)\n",
        "print(\"Sıfır matris boyutu:\", zero_matris.ndim) #ndim komutuyla np'de boyut alınır\n",
        "\n",
        "print(\"***\")\n",
        "one_matris= np.ones((3, 4))\n",
        "print(\"Bir matris boyutu:\", one_matris.ndim)\n",
        "print(one_matris)\n",
        "\n",
        "print(\"***\")\n",
        "\n",
        "# Satır bazında birleştirme\n",
        "one_zero_satir= np.concatenate((zero_matris, one_matris), axis=0)\n",
        "# axis=0 olması dizilerin satırlarının üzerinde işlem yapılmasını sağlar\n",
        "# burada alt alta satırlar birleştirildi\n",
        "\n",
        "print(\"Satır Bazında Birleşmiş Matris:\", one_zero_satir)\n",
        "print(\"***\")\n",
        "\n",
        "# Sütun bazında birleştirme\n",
        "one_zero_sutun = np.concatenate((zero_matris, one_matris), axis=1)\n",
        "# axis=1 olması dizilerin sütunlarının üzerinde işlem yapılmasını sağlar\n",
        "# burada yan yana sütunlar birleştirildi\n",
        "\n",
        "print(\"Sütun Bazında Birleşmiş Matris:\", one_zero_sutun)\n"
      ],
      "metadata": {
        "colab": {
          "base_uri": "https://localhost:8080/"
        },
        "id": "EOGFHTXxkXCQ",
        "outputId": "dfe3620d-ebb8-4f71-a7b4-30cb6fcb3a00"
      },
      "execution_count": null,
      "outputs": [
        {
          "output_type": "stream",
          "name": "stdout",
          "text": [
            "[[0. 0. 0. 0.]\n",
            " [0. 0. 0. 0.]\n",
            " [0. 0. 0. 0.]]\n",
            "Sıfır matris boyutu: 2\n",
            "***\n",
            "Bir matris boyutu: 2\n",
            "[[1. 1. 1. 1.]\n",
            " [1. 1. 1. 1.]\n",
            " [1. 1. 1. 1.]]\n",
            "***\n",
            "Satır Bazında Birleşmiş Matris: [[0. 0. 0. 0.]\n",
            " [0. 0. 0. 0.]\n",
            " [0. 0. 0. 0.]\n",
            " [1. 1. 1. 1.]\n",
            " [1. 1. 1. 1.]\n",
            " [1. 1. 1. 1.]]\n",
            "***\n",
            "Sütun Bazında Birleşmiş Matris: [[0. 0. 0. 0. 1. 1. 1. 1.]\n",
            " [0. 0. 0. 0. 1. 1. 1. 1.]\n",
            " [0. 0. 0. 0. 1. 1. 1. 1.]]\n"
          ]
        }
      ]
    }
  ]
}